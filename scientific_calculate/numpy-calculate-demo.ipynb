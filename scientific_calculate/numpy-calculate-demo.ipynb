{
 "cells": [
  {
   "cell_type": "code",
   "execution_count": 2,
   "metadata": {
    "collapsed": true
   },
   "outputs": [],
   "source": [
    "import numpy as np\n",
    "\n",
    "\n",
    "a = np.arange(16)"
   ]
  },
  {
   "cell_type": "code",
   "execution_count": 3,
   "metadata": {},
   "outputs": [],
   "source": [
    "b = a + 1"
   ]
  },
  {
   "cell_type": "code",
   "execution_count": 5,
   "metadata": {},
   "outputs": [
    {
     "data": {
      "text/plain": [
       "array([False, False, False, False, False, False, False, False, False,\n       False,  True, False, False, False, False, False], dtype=bool)"
      ]
     },
     "execution_count": 5,
     "metadata": {},
     "output_type": "execute_result"
    }
   ],
   "source": [
    "a == 10"
   ]
  },
  {
   "cell_type": "markdown",
   "metadata": {},
   "source": [
    "Boolean Array 常常用于选择元素"
   ]
  },
  {
   "cell_type": "code",
   "execution_count": 6,
   "metadata": {},
   "outputs": [
    {
     "data": {
      "text/plain": [
       "array([11])"
      ]
     },
     "execution_count": 6,
     "metadata": {},
     "output_type": "execute_result"
    }
   ],
   "source": [
    "b[a == 10]"
   ]
  },
  {
   "cell_type": "markdown",
   "metadata": {},
   "source": [
    "相同 shape 的数据做运算，是逐点做的"
   ]
  },
  {
   "cell_type": "code",
   "execution_count": 7,
   "metadata": {},
   "outputs": [
    {
     "data": {
      "text/plain": [
       "array([  0,   2,   6,  12,  20,  30,  42,  56,  72,  90, 110, 132, 156,\n       182, 210, 240])"
      ]
     },
     "execution_count": 7,
     "metadata": {},
     "output_type": "execute_result"
    }
   ],
   "source": [
    "a * b"
   ]
  },
  {
   "cell_type": "markdown",
   "metadata": {},
   "source": [
    "广播(broadcast) 是 numpy 和 pandas 中对于 universe function 常用的一种机制。\n",
    "universe function 比如 +，\n",
    "A + B 表示 A 和 B 逐点相加\n",
    "如果 A, B 的 shape 相同那么当然没有问题。\n",
    "但是如果 A, B 的 shape 不相同，在如下情况下也是可以计算的：\n",
    "- A 的 shape 为 (a1, a2)\n",
    "- B 的 shape 为 (b1, b2)\n",
    "- 如果 a1 != b1, 那么 a1, b1 中有一个 为 1\n",
    "- 如果 a2 != b2, 那么 a2, b2 中有一个为 1\n",
    "- 输出结果的 shape 为 max(a1, b1), max(a2, b2)"
   ]
  },
  {
   "cell_type": "code",
   "execution_count": 2,
   "metadata": {},
   "outputs": [
    {
     "name": "stdout",
     "output_type": "stream",
     "text": [
      "[[ 0  1  2]\n [ 4  5  6]\n [ 8  9 10]]\n[[0 1 2 3 4 5]\n [1 2 3 4 5 6]\n [2 3 4 5 6 7]\n [3 4 5 6 7 8]\n [4 5 6 7 8 9]]\n"
     ]
    }
   ],
   "source": [
    "# example_1\n",
    "\n",
    "import numpy as np\n",
    "\n",
    "a = np.arange(9)\n",
    "a.shape = 3, 3\n",
    "b = np.arange(3)\n",
    "b.shape = 3, 1\n",
    "c = a + b\n",
    "print(c)\n",
    "\n",
    "# example_2，这个例子很常见\n",
    "\n",
    "a = np.arange(5)\n",
    "b = np.arange(6)\n",
    "a.shape = 5, -1\n",
    "b.shape = -1, 6\n",
    "c = a + b\n",
    "print(c)"
   ]
  }
 ],
 "metadata": {
  "kernelspec": {
   "display_name": "Python 2",
   "language": "python",
   "name": "python2"
  },
  "language_info": {
   "codemirror_mode": {
    "name": "ipython",
    "version": 2.0
   },
   "file_extension": ".py",
   "mimetype": "text/x-python",
   "name": "python",
   "nbconvert_exporter": "python",
   "pygments_lexer": "ipython2",
   "version": "2.7.6"
  }
 },
 "nbformat": 4,
 "nbformat_minor": 0
}